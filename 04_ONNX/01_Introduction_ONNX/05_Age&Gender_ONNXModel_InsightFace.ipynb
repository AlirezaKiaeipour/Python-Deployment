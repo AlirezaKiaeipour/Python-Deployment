{
 "cells": [
  {
   "cell_type": "code",
   "execution_count": null,
   "metadata": {
    "id": "p5p2Y2Cyc1Mr"
   },
   "outputs": [],
   "source": [
    "!pip install onnxruntime\n",
    "!pip install onnx"
   ]
  },
  {
   "cell_type": "markdown",
   "metadata": {},
   "source": [
    "## Import Libraries"
   ]
  },
  {
   "cell_type": "code",
   "execution_count": 1,
   "metadata": {
    "id": "dXLXH6KpK_YR"
   },
   "outputs": [],
   "source": [
    "import onnx\n",
    "import onnxruntime as ort\n",
    "from PIL import Image\n",
    "import numpy as np"
   ]
  },
  {
   "cell_type": "markdown",
   "metadata": {},
   "source": [
    "## Load ONNX Model"
   ]
  },
  {
   "cell_type": "code",
   "execution_count": 2,
   "metadata": {
    "id": "MPYPtj1lJHci"
   },
   "outputs": [],
   "source": [
    "onnx_model = onnx.load_model(\"models/genderage.onnx\")"
   ]
  },
  {
   "cell_type": "markdown",
   "metadata": {},
   "source": [
    "## Use ONNX Model"
   ]
  },
  {
   "cell_type": "code",
   "execution_count": 3,
   "metadata": {
    "colab": {
     "base_uri": "https://localhost:8080/"
    },
    "id": "w8TwkNtpKzOT",
    "outputId": "8e54a4da-8f77-4ee2-a166-5f1c9d212505"
   },
   "outputs": [
    {
     "name": "stdout",
     "output_type": "stream",
     "text": [
      "data ['None', 3, 96, 96]\n"
     ]
    }
   ],
   "source": [
    "onnx_model_session = ort.InferenceSession(\n",
    "    \"genderage.onnx\",\n",
    "    providers = [\"CPUExecutionProvider\"]\n",
    ")\n",
    "input_name = onnx_model_session.get_inputs()[0].name\n",
    "input_shape = onnx_model_session.get_inputs()[0].shape\n",
    "print(input_name, input_shape)"
   ]
  },
  {
   "cell_type": "code",
   "execution_count": 4,
   "metadata": {
    "colab": {
     "base_uri": "https://localhost:8080/"
    },
    "id": "PVfJMHAULLTp",
    "outputId": "83419fae-f9bd-456e-ca99-01a062879f5e"
   },
   "outputs": [
    {
     "data": {
      "text/plain": [
       "[array([[-3.0345156 ,  3.0344632 ,  0.21834159]], dtype=float32)]"
      ]
     },
     "execution_count": 4,
     "metadata": {},
     "output_type": "execute_result"
    }
   ],
   "source": [
    "image = Image.open(\"image.jpg\")\n",
    "image = image.resize((96,96))\n",
    "image = np.array(image).astype(np.float32)\n",
    "image = np.expand_dims(image, axis=0)\n",
    "image = np.transpose(image, (0, 3, 1, 2))\n",
    "\n",
    "predict = onnx_model_session.run(\n",
    "    None,\n",
    "    {input_name:image}\n",
    ")\n",
    "predict"
   ]
  }
 ],
 "metadata": {
  "colab": {
   "provenance": []
  },
  "kernelspec": {
   "display_name": "Python 3 (ipykernel)",
   "language": "python",
   "name": "python3"
  },
  "language_info": {
   "codemirror_mode": {
    "name": "ipython",
    "version": 3
   },
   "file_extension": ".py",
   "mimetype": "text/x-python",
   "name": "python",
   "nbconvert_exporter": "python",
   "pygments_lexer": "ipython3",
   "version": "3.11.8"
  }
 },
 "nbformat": 4,
 "nbformat_minor": 4
}
