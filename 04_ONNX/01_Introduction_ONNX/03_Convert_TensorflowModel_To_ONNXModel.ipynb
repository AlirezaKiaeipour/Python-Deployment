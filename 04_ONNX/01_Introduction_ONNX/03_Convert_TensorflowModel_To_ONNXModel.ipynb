{
 "cells": [
  {
   "cell_type": "code",
   "execution_count": null,
   "metadata": {
    "id": "p5p2Y2Cyc1Mr"
   },
   "outputs": [],
   "source": [
    "!pip install tf2onnx\n",
    "!pip install onnx\n",
    "!pip install onnxscript\n",
    "!pip install onnxruntime-gpu"
   ]
  },
  {
   "cell_type": "markdown",
   "metadata": {},
   "source": [
    "## Import Libraries"
   ]
  },
  {
   "cell_type": "code",
   "execution_count": 6,
   "metadata": {
    "id": "ktU3GAvmQKZm"
   },
   "outputs": [],
   "source": [
    "import time\n",
    "import onnxruntime as ort\n",
    "import tensorflow as tf\n",
    "from tensorflow.keras.applications import ResNet50\n",
    "import tf2onnx\n",
    "import onnx\n",
    "import numpy as np"
   ]
  },
  {
   "cell_type": "markdown",
   "metadata": {},
   "source": [
    "## ResNet Model"
   ]
  },
  {
   "cell_type": "code",
   "execution_count": 7,
   "metadata": {
    "id": "FYvkrhUkSDMI"
   },
   "outputs": [],
   "source": [
    "resnet_model = ResNet50(weights=\"imagenet\", include_top=False)"
   ]
  },
  {
   "cell_type": "markdown",
   "metadata": {},
   "source": [
    "## Convert TensorFlow Model To ONNX"
   ]
  },
  {
   "cell_type": "code",
   "execution_count": 8,
   "metadata": {
    "id": "J6jszdjoSKAW"
   },
   "outputs": [],
   "source": [
    "input_shape = [tf.TensorSpec(resnet_model.inputs[0].shape, dtype=resnet_model.inputs[0].dtype, name=resnet_model.inputs[0].name)]\n",
    "input_data = np.random.randn(1, 224, 224, 3).astype(np.float32)\n",
    "onnx_model, _ = tf2onnx.convert.from_keras(resnet_model, input_signature=input_shape)\n",
    "onnx.save(onnx_model, \"tensorflow_to_onnx_model.onnx\")"
   ]
  },
  {
   "cell_type": "markdown",
   "metadata": {},
   "source": [
    "## Use ONNX Model Base CPU"
   ]
  },
  {
   "cell_type": "code",
   "execution_count": 5,
   "metadata": {
    "colab": {
     "base_uri": "https://localhost:8080/"
    },
    "id": "MxMi8UG3SYrh",
    "outputId": "21ad54bf-e63c-44e5-a066-d96876903efb"
   },
   "outputs": [
    {
     "name": "stdout",
     "output_type": "stream",
     "text": [
      "Inference Time: 0.1308915615081787\n"
     ]
    }
   ],
   "source": [
    "onnx_model_session = ort.InferenceSession(\n",
    "    \"tensorflow_to_onnx_model.onnx\",\n",
    "    providers = [\"CPUExecutionProvider\"]\n",
    ")\n",
    "input_name = onnx_model_session.get_inputs()[0].name\n",
    "output_name = onnx_model_session.get_outputs()[0].name\n",
    "start_time = time.time()\n",
    "predict = onnx_model_session.run(\n",
    "    [output_name],\n",
    "    {input_name: input_data}\n",
    ")\n",
    "end_time = time.time()\n",
    "print(f\"Inference Time: {end_time - start_time}\")"
   ]
  },
  {
   "cell_type": "markdown",
   "metadata": {},
   "source": [
    "## Use ONNX Model Base CUDA"
   ]
  },
  {
   "cell_type": "code",
   "execution_count": 9,
   "metadata": {
    "colab": {
     "base_uri": "https://localhost:8080/"
    },
    "id": "6vDL6pdWTEL5",
    "outputId": "a7fe9d5e-d0a4-4e51-b89c-f35e04062f02"
   },
   "outputs": [
    {
     "name": "stdout",
     "output_type": "stream",
     "text": [
      "Inference Time: 0.07973051071166992\n"
     ]
    }
   ],
   "source": [
    "session_options = ort.SessionOptions()\n",
    "cuda = {'device_id': 0}\n",
    "\n",
    "onnx_model_session = ort.InferenceSession(\n",
    "    \"tensorflow_to_onnx_model.onnx\",\n",
    "    sess_options=session_options,\n",
    "    providers = [(\"CUDAExecutionProvider\", cuda)]\n",
    ")\n",
    "input_name = onnx_model_session.get_inputs()[0].name\n",
    "output_name = onnx_model_session.get_outputs()[0].name\n",
    "start_time = time.time()\n",
    "predict = onnx_model_session.run(\n",
    "    [output_name],\n",
    "    {input_name: input_data}\n",
    ")\n",
    "end_time = time.time()\n",
    "print(f\"Inference Time: {end_time - start_time}\")"
   ]
  }
 ],
 "metadata": {
  "accelerator": "GPU",
  "colab": {
   "gpuType": "T4",
   "provenance": []
  },
  "kernelspec": {
   "display_name": "Python 3 (ipykernel)",
   "language": "python",
   "name": "python3"
  },
  "language_info": {
   "codemirror_mode": {
    "name": "ipython",
    "version": 3
   },
   "file_extension": ".py",
   "mimetype": "text/x-python",
   "name": "python",
   "nbconvert_exporter": "python",
   "pygments_lexer": "ipython3",
   "version": "3.11.8"
  }
 },
 "nbformat": 4,
 "nbformat_minor": 4
}
