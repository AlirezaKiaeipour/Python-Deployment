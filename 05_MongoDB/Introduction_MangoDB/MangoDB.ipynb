{
 "cells": [
  {
   "cell_type": "code",
   "execution_count": null,
   "metadata": {
    "id": "5EvGBF8qsdq9"
   },
   "outputs": [],
   "source": [
    "!pip install pymongo"
   ]
  },
  {
   "cell_type": "code",
   "execution_count": 1,
   "metadata": {
    "id": "qngUFEVtsmu2"
   },
   "outputs": [],
   "source": [
    "import pymongo"
   ]
  },
  {
   "cell_type": "code",
   "execution_count": 2,
   "metadata": {
    "id": "eUdhqI0ls89w"
   },
   "outputs": [],
   "source": [
    "client = pymongo.MongoClient(\"mongodb://localhost:27017/\")\n",
    "db = client[\"BreakingBad\"]"
   ]
  },
  {
   "cell_type": "code",
   "execution_count": 3,
   "metadata": {
    "id": "yaPKtr6-t-vT"
   },
   "outputs": [],
   "source": [
    "cast_col = db[\"casts\"]"
   ]
  },
  {
   "cell_type": "code",
   "execution_count": 4,
   "metadata": {
    "id": "oTPJrIKpu6MZ"
   },
   "outputs": [],
   "source": [
    "cast_list = [\n",
    "    {\"name\": \"Walter\", \"gender\": \"Male\", \"job\": \"Drug cook\", \"another job\": \"Teacher\"},\n",
    "    {\"name\": \"Jesse\", \"gender\": \"Male\", \"job\": \"Drug cook\"},\n",
    "    {\"name\": \"Hank\", \"gender\": \"Male\", \"job\": \"Police\"},\n",
    "    {\"name\": \"Saul\", \"gender\": \"Male\", \"job\": \"Lawyer\"},\n",
    "    {\"name\": \"Mike\", \"gender\": \"Male\", \"job\": \"Cartel Member\", \"another job\": \"Retired Police\"},\n",
    "    {\"name\": \"Gus\", \"gender\": \"Male\", \"job\": \"Cartel Boss\", \"another job\": \"Restaurant owner\" },\n",
    "    {\"name\": \"Steven\", \"gender\": \"Male\", \"job\": \"Police\"},\n",
    "    {\"name\": \"Walter Jr.\", \"gender\": \"Male\"},\n",
    "    {\"name\": \"Skyler\", \"gender\": \"Female\"},\n",
    "    {\"name\": \"Tuco\", \"gender\": \"Male\", \"job\": \"Cartel Member\"},\n",
    "]\n",
    "\n",
    "cast = cast_col.insert_many(cast_list)"
   ]
  },
  {
   "cell_type": "code",
   "execution_count": 5,
   "metadata": {
    "colab": {
     "base_uri": "https://localhost:8080/"
    },
    "id": "zz0dyo3N2zRq",
    "outputId": "95d4a576-c9f3-4e2d-f5b2-4105a7a469d4"
   },
   "outputs": [
    {
     "name": "stdout",
     "output_type": "stream",
     "text": [
      "{'_id': ObjectId('66e2b53f488bafe16754a9e0'), 'name': 'Hank', 'gender': 'Male', 'job': 'Police'}\n",
      "{'_id': ObjectId('66e2b53f488bafe16754a9e1'), 'name': 'Saul', 'gender': 'Male', 'job': 'Lawyer'}\n",
      "{'_id': ObjectId('66e2b53f488bafe16754a9e2'), 'name': 'Mike', 'gender': 'Male', 'job': 'Cartel Member', 'another job': 'Retired Police'}\n",
      "{'_id': ObjectId('66e2b53f488bafe16754a9e3'), 'name': 'Gus', 'gender': 'Male', 'job': 'Cartel Boss', 'another job': 'Restaurant owner'}\n",
      "{'_id': ObjectId('66e2b53f488bafe16754a9e7'), 'name': 'Tuco', 'gender': 'Male', 'job': 'Cartel Member'}\n"
     ]
    }
   ],
   "source": [
    "query = {\"$expr\": {\"$lt\": [{\"$strLenCP\": \"$name\"}, 5]}}\n",
    "result = cast_col.find(query)\n",
    "for cast in result:\n",
    "  print(cast)"
   ]
  }
 ],
 "metadata": {
  "colab": {
   "provenance": []
  },
  "kernelspec": {
   "display_name": "Python 3 (ipykernel)",
   "language": "python",
   "name": "python3"
  },
  "language_info": {
   "codemirror_mode": {
    "name": "ipython",
    "version": 3
   },
   "file_extension": ".py",
   "mimetype": "text/x-python",
   "name": "python",
   "nbconvert_exporter": "python",
   "pygments_lexer": "ipython3",
   "version": "3.12.3"
  }
 },
 "nbformat": 4,
 "nbformat_minor": 4
}
